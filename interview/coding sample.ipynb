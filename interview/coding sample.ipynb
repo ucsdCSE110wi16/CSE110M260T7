{
 "cells": [
  {
   "cell_type": "code",
   "execution_count": 30,
   "metadata": {
    "collapsed": true
   },
   "outputs": [],
   "source": [
    "def findMaxAmongDuplicate(num):\n",
    "    '''\n",
    "    input: integar\n",
    "    output:integar\n",
    "    '''\n",
    "    if num == 0:\n",
    "        return 0\n",
    "    stringNum = str(num)\n",
    "    if len(stringNum) == 1:\n",
    "        return int(stringNum + stringNum)\n",
    "    for i in range(0,len(stringNum)-1):\n",
    "        if int(stringNum[i]) > int(stringNum[i+1]):\n",
    "            return int(stringNum[:i] + stringNum[i] + stringNum[i:])\n",
    "    return int(stringNum[:] + stringNum[-1])\n",
    "    "
   ]
  },
  {
   "cell_type": "code",
   "execution_count": 31,
   "metadata": {
    "collapsed": false
   },
   "outputs": [
    {
     "ename": "IndentationError",
     "evalue": "expected an indented block (<ipython-input-31-7d3c7777dbe7>, line 4)",
     "output_type": "error",
     "traceback": [
      "\u001b[0;36m  File \u001b[0;32m\"<ipython-input-31-7d3c7777dbe7>\"\u001b[0;36m, line \u001b[0;32m4\u001b[0m\n\u001b[0;31m    #     print cases[i], result[i] == findMaxAmongDuplicate(cases[i])\u001b[0m\n\u001b[0m                                                                      ^\u001b[0m\n\u001b[0;31mIndentationError\u001b[0m\u001b[0;31m:\u001b[0m expected an indented block\n"
     ]
    }
   ],
   "source": [
    "cases = [0,1,12,21,123,321,121,1234,4321,1213,1232,22,12332,12231]\n",
    "result = [0,11,122,221,1233,3321,1221,12344,44321,12213,12332,222,123332,122331]\n",
    "for i in range(len(cases)):\n",
    "#     print cases[i], result[i] == findMaxAmongDuplicate(cases[i])"
   ]
  },
  {
   "cell_type": "code",
   "execution_count": 31,
   "metadata": {
    "collapsed": true
   },
   "outputs": [],
   "source": [
    "def findMinAmongDuplicate(num):\n",
    "    '''\n",
    "    input: integar\n",
    "    output:integar\n",
    "    '''\n",
    "    if num == 0:\n",
    "        return 0\n",
    "    stringNum = str(num)\n",
    "    if len(stringNum) == 1:\n",
    "        return int(stringNum + stringNum)\n",
    "    for i in range(0,len(stringNum)-1):\n",
    "        if int(stringNum[i]) < int(stringNum[i+1]):\n",
    "            return int(stringNum[:i] + stringNum[i] + stringNum[i:])\n",
    "    return int(stringNum[:] + stringNum[-1])    "
   ]
  },
  {
   "cell_type": "code",
   "execution_count": 38,
   "metadata": {
    "collapsed": false
   },
   "outputs": [],
   "source": [
    "cases2 = [0,1,12,21,123,321,121,1234,4321,1213,1232,22,3321,3221,3211,32112,32212]\n",
    "result2 = [0,11,112,211,1123,3211,1121,11234,43211,11213,11232,222,33211,32211,32111,321112,322112]"
   ]
  },
  {
   "cell_type": "code",
   "execution_count": 65,
   "metadata": {
    "collapsed": false
   },
   "outputs": [],
   "source": [
    "for i in range(len(cases2)):\n",
    "    if result2[i] != findMinAmongDuplicate(cases2[i]):\n",
    "        print cases2[i], \"expect \",result3[i],\"but \", findMinAmongDuplicate(cases2[i])"
   ]
  },
  {
   "cell_type": "code",
   "execution_count": 34,
   "metadata": {
    "collapsed": true
   },
   "outputs": [],
   "source": [
    "# Get the max value after removing one of the digit of an int. The removal should be a continous duplicate num\n",
    "# e.g. 122334 --> 12334\n",
    "def findMinDeleteDuplicate(num):\n",
    "    stringNum = str(num)\n",
    "    lastDuplicationLoc = -1\n",
    "    if len(stringNum) <= 1:\n",
    "        return num\n",
    "    i = 0\n",
    "    while i < len(stringNum)-1:\n",
    "        if stringNum[i] == stringNum[i+1]:\n",
    "            while i < len(stringNum)-1 and stringNum[i] == stringNum[i+1]:\n",
    "                i += 1\n",
    "            lastDuplicationLoc = i\n",
    "            if i == len(stringNum)-1 or int(stringNum[i]) > int(stringNum[i+1]):\n",
    "                return int(stringNum[:i] + stringNum[i+1:])\n",
    "        i += 1\n",
    "    if lastDuplicationLoc != -1:\n",
    "        return int(stringNum[:lastDuplicationLoc] + stringNum[lastDuplicationLoc+1:])\n",
    "    return num"
   ]
  },
  {
   "cell_type": "code",
   "execution_count": 39,
   "metadata": {
    "collapsed": true
   },
   "outputs": [],
   "source": [
    "cases3 = [0,1,12,21,123,1123,1223,1233,11223,122334,1233244,3321,3221,3211,12332,32112,4433221]\n",
    "result3 = [0,1,12,21,123,123,123, 123, 1123, 12234, 123244, 321, 321, 321, 1232,  3212,433221]"
   ]
  },
  {
   "cell_type": "code",
   "execution_count": 38,
   "metadata": {
    "collapsed": false
   },
   "outputs": [
    {
     "name": "stdout",
     "output_type": "stream",
     "text": [
      " 4433221 expect  43221 but  433221\n"
     ]
    }
   ],
   "source": [
    "for i in range(len(cases3)):\n",
    "    if result3[i] != findMinDeleteDuplicate(cases3[i]):\n",
    "        print cases3[i], \"expect \",result3[i],\"but \", findMinDeleteDuplicate(cases3[i])"
   ]
  },
  {
   "cell_type": "code",
   "execution_count": null,
   "metadata": {
    "collapsed": true
   },
   "outputs": [],
   "source": [
    "# Get the max value after removing one of the digit of an int. The removal should be a continous duplicate num\n",
    "# e.g. 122334 --> 12334\n",
    "def findMaxDeleteDuplicate(num):\n",
    "    stringNum = str(num)\n",
    "    lastDuplicationLoc = -1\n",
    "    if len(stringNum) <= 1:\n",
    "        return num\n",
    "    i = 0\n",
    "    while i < len(stringNum)-1:\n",
    "        if stringNum[i] == stringNum[i+1]:\n",
    "            while i < len(stringNum)-1 and stringNum[i] == stringNum[i+1]:\n",
    "                i += 1\n",
    "            lastDuplicationLoc = i\n",
    "            if i == len(stringNum)-1 or int(stringNum[i]) < int(stringNum[i+1]):\n",
    "                return int(stringNum[:i] + stringNum[i+1:])\n",
    "        i += 1\n",
    "    if lastDuplicationLoc != -1:\n",
    "        return int(stringNum[:lastDuplicationLoc] + stringNum[lastDuplicationLoc+1:])\n",
    "    return num"
   ]
  },
  {
   "cell_type": "code",
   "execution_count": 1,
   "metadata": {
    "collapsed": false
   },
   "outputs": [
    {
     "ename": "SyntaxError",
     "evalue": "invalid syntax (<ipython-input-1-675fc87d8042>, line 1)",
     "output_type": "error",
     "traceback": [
      "\u001b[0;36m  File \u001b[0;32m\"<ipython-input-1-675fc87d8042>\"\u001b[0;36m, line \u001b[0;32m1\u001b[0m\n\u001b[0;31m    2. 还是文件路径问题，求所有包含图片的文件夹的路径总长度和。路径不包含图片名，只包含文件夹。. 1point3acres.com/bbs\u001b[0m\n\u001b[0m       ^\u001b[0m\n\u001b[0;31mSyntaxError\u001b[0m\u001b[0;31m:\u001b[0m invalid syntax\n"
     ]
    }
   ],
   "source": [
    "2. 还是文件路径问题，求所有包含图片的文件夹的路径总长度和。路径不包含图片名，只包含文件夹。. 1point3acres.com/bbs\n",
    "我用stack做的，参考的地里的代码，push的时候要注意一下，别把图片放进去。"
   ]
  },
  {
   "cell_type": "code",
   "execution_count": 66,
   "metadata": {
    "collapsed": true
   },
   "outputs": [],
   "source": [
    "def totalLengthImagePath(path):\n",
    "    if path == \"\":\n",
    "        return 0\n",
    "    paths = path.split(\"\\n\")\n",
    "    totalLength = 0\n",
    "    curLength = 0\n",
    "    \n",
    "    stack = []\n",
    "    for curDir in paths:\n",
    "        level = 0\n",
    "        while level < len(curDir) and curDir[level] == \" \":\n",
    "            level += 1\n",
    "        while len(stack) > level:\n",
    "            preDir = stack.pop()\n",
    "            curLength -= len(preDir)\n",
    "        print curLength\n",
    "        if \".jpeg\" in curDir or \".png\" in curDir or \".gif\" in curDir:\n",
    "            curLength += len(curDir[level:])\n",
    "            totalLength += curLength\n",
    "            print curLength\n",
    "            print stack\n",
    "        else:\n",
    "            curLength += len(curDir[level:])\n",
    "            stack.append(curDir[level:])\n",
    "    return totalLength"
   ]
  },
  {
   "cell_type": "code",
   "execution_count": 67,
   "metadata": {
    "collapsed": false
   },
   "outputs": [
    {
     "name": "stdout",
     "output_type": "stream",
     "text": [
      "0\n",
      "4\n",
      "4\n",
      "9\n",
      "21\n",
      "['dir1', 'dir12']\n",
      "21\n",
      "21\n",
      "12\n",
      "16\n",
      "25\n",
      "['dir2']\n",
      "46\n",
      "\n"
     ]
    }
   ],
   "source": [
    "with open('input', 'r') as myfile:\n",
    "    input1=myfile.read().split(\":\\n\")\n",
    "for case in input1:\n",
    "    print totalLengthImagePath(case)\n",
    "    print"
   ]
  },
  {
   "cell_type": "code",
   "execution_count": 47,
   "metadata": {
    "collapsed": true
   },
   "outputs": [],
   "source": [
    "def findMaxLengthImagePath(path):\n",
    "    if path == \"\":\n",
    "        return 0\n",
    "    paths = path.split(\"\\n\")\n",
    "    maxLength = 0\n",
    "    curLength = 0\n",
    "    \n",
    "    stack = []\n",
    "    for curDir in paths:\n",
    "        level = 0\n",
    "        while level < len(curDir) and curDir[level] == \" \":\n",
    "            level += 1\n",
    "        if len(stack) == level:\n",
    "            if \".jpeg\" in curDir or \".png\" in curDir or \".gif\" in curDir:\n",
    "                curLength += len(curDir[level:]) # +1?\n",
    "                maxLength = max(maxLength, curLength)\n",
    "                print stack\n",
    "                \n",
    "            else:\n",
    "                curLength += len(curDir[level:]) # +1?\n",
    "        elif len(stack) > level:\n",
    "            while len(stack) > level:\n",
    "                preDir = stack.pop()\n",
    "                curLength -= len(preDir)\n",
    "            if \".jpeg\" in curDir or \".png\" in curDir or \".gif\" in curDir:\n",
    "                curLength += len(curDir[level:]) # +1?\n",
    "                maxLength = max(maxLength, curLength)\n",
    "                print stack\n",
    "            else:\n",
    "                curLength += len(curDir[level:])\n",
    "        stack.append(curDir[level:])\n",
    "    return maxLength"
   ]
  },
  {
   "cell_type": "code",
   "execution_count": 48,
   "metadata": {
    "collapsed": false
   },
   "outputs": [
    {
     "name": "stdout",
     "output_type": "stream",
     "text": [
      "0\n",
      "\n",
      "[]\n",
      "10\n",
      "\n",
      "['A', 'B1']\n",
      "['A', 'B1']\n",
      "['A', 'B1', 'C']\n",
      "['A']\n",
      "['A', 'B2']\n",
      "14\n",
      "\n",
      "['A', 'B1']\n",
      "['A', 'B2', 'C']\n",
      "14\n",
      "\n"
     ]
    }
   ],
   "source": [
    "with open('input', 'r') as myfile:\n",
    "    input1=myfile.read().split(\":\\n\")\n",
    "for case in input1:\n",
    "    print findMaxLengthImagePath(case)\n",
    "    print"
   ]
  },
  {
   "cell_type": "code",
   "execution_count": 80,
   "metadata": {
    "collapsed": false
   },
   "outputs": [],
   "source": [
    "def solution(X):\n",
    "    # write your code in Python 2.7\n",
    "    res = []\n",
    "    stringNum = str(X)\n",
    "    if len(stringNum) == 1:\n",
    "        return X\n",
    "    for i in range(0,len(stringNum)-1):\n",
    "        res.append(int(stringNum[:i] + str(max(int(stringNum[i]),int(stringNum[i+1]))) + stringNum[i+2:]))\n",
    "    return min(res)"
   ]
  },
  {
   "cell_type": "code",
   "execution_count": 81,
   "metadata": {
    "collapsed": false
   },
   "outputs": [
    {
     "name": "stdout",
     "output_type": "stream",
     "text": [
      "23451\n"
     ]
    }
   ],
   "source": [
    "print solution(234531)"
   ]
  },
  {
   "cell_type": "code",
   "execution_count": 77,
   "metadata": {
    "collapsed": true
   },
   "outputs": [],
   "source": [
    "def solution(S):\n",
    "    # write your code in Python 2.7\n",
    "    if S == \"\":\n",
    "        return 0\n",
    "    paths = S.split(\"\\n\")\n",
    "    totalLength = 0\n",
    "    curLength = 0\n",
    "    \n",
    "    stack = []\n",
    "    for curDir in paths:\n",
    "        level = 0\n",
    "        while level < len(curDir) and curDir[level] == \" \":\n",
    "            level += 1\n",
    "        while len(stack) > level:\n",
    "            preDir = stack.pop()\n",
    "            curLength -= (len(preDir)+1)\n",
    "        if \".jpeg\" in curDir or \".png\" in curDir or \".gif\" in curDir:\n",
    "            totalLength += (curLength+len(curDir[level:])+1)\n",
    "        elif \".\" not in curDir:\n",
    "            curLength += (len(curDir[level:])+1)\n",
    "            stack.append(curDir[level:])\n",
    "    return totalLength"
   ]
  },
  {
   "cell_type": "code",
   "execution_count": 78,
   "metadata": {
    "collapsed": false
   },
   "outputs": [
    {
     "name": "stdout",
     "output_type": "stream",
     "text": [
      "dir1\n",
      " dir11\n",
      " dir12\n",
      "  picture.jpeg\n",
      "  dir121\n",
      "  file1.txt\n",
      "dir2\n",
      " file2.gif\n",
      "\n",
      "39\n",
      "A\n",
      " he.jpeg\n",
      " B\n",
      "  C\n",
      "  h.txt\n",
      "  he.jpeg\n",
      "22\n"
     ]
    }
   ],
   "source": [
    "with open('input', 'r') as myfile:\n",
    "    input1=myfile.read().split(\":\\n\")\n",
    "for case in input1:\n",
    "    print case\n",
    "    print solution(case)"
   ]
  },
  {
   "cell_type": "code",
   "execution_count": null,
   "metadata": {
    "collapsed": true
   },
   "outputs": [],
   "source": []
  }
 ],
 "metadata": {
  "anaconda-cloud": {},
  "kernelspec": {
   "display_name": "Python 2",
   "language": "python",
   "name": "python2"
  },
  "language_info": {
   "codemirror_mode": {
    "name": "ipython",
    "version": 2
   },
   "file_extension": ".py",
   "mimetype": "text/x-python",
   "name": "python",
   "nbconvert_exporter": "python",
   "pygments_lexer": "ipython2",
   "version": "2.7.10"
  }
 },
 "nbformat": 4,
 "nbformat_minor": 0
}
